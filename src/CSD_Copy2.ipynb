{
 "cells": [
  {
   "cell_type": "code",
   "execution_count": 1,
   "metadata": {},
   "outputs": [],
   "source": [
    "import import_ipynb"
   ]
  },
  {
   "cell_type": "code",
   "execution_count": 2,
   "metadata": {
    "scrolled": true
   },
   "outputs": [
    {
     "name": "stdout",
     "output_type": "stream",
     "text": [
      "importing Jupyter notebook from CSD_function_Copy2.ipynb\n"
     ]
    }
   ],
   "source": [
    "import CSD_function_Copy2 as CSD"
   ]
  },
  {
   "cell_type": "code",
   "execution_count": 3,
   "metadata": {},
   "outputs": [],
   "source": [
    "import numpy as np\n",
    "import matplotlib.pyplot as plt\n",
    "import os, glob, ntpath\n",
    "import imageio"
   ]
  },
  {
   "cell_type": "code",
   "execution_count": 4,
   "metadata": {},
   "outputs": [],
   "source": [
    "# Given the range of the rectangle\n",
    "lenX = CSD.lenX\n",
    "lenY = CSD.lenY\n",
    "\n",
    "D = CSD.D\n",
    "\n",
    "deltaX = CSD.deltaX # mm\n",
    "deltaY = CSD.deltaY # mm\n",
    "deltaT = CSD.deltaT\n",
    "\n",
    "Kr = CSD.Kr"
   ]
  },
  {
   "cell_type": "code",
   "execution_count": 5,
   "metadata": {},
   "outputs": [],
   "source": [
    "# Given Initial values\n",
    "maxIter = 500\n",
    "K = np.full([lenX, lenY], Kr, dtype=np.float64)\n",
    "Kt = np.zeros([lenX, lenY], dtype=np.float64)\n",
    "R = np.zeros([lenX, lenY], dtype=np.float64)\n",
    "Rt = np.zeros([lenX, lenY], dtype=np.float64)"
   ]
  },
  {
   "cell_type": "code",
   "execution_count": 6,
   "metadata": {},
   "outputs": [],
   "source": [
    "center_point_loc = np.array([int(lenX/2),int(lenY/2)])"
   ]
  },
  {
   "cell_type": "code",
   "execution_count": 10,
   "metadata": {},
   "outputs": [],
   "source": [
    "maxIter = 2000\n",
    "clamping_value=0.9\n",
    "clamping_radius=15\n",
    "clamping_ticks=50\n",
    "clamping_ticks_end=2000\n",
    "\n",
    "foucs_loc=np.array([[int(lenX/2),int(lenY/2)],\n",
    "                     [int(lenX/2)+10,int(lenY/2)+10],\n",
    "                   [int(lenX/2)+30,int(lenY/2)+30]])"
   ]
  },
  {
   "cell_type": "code",
   "execution_count": null,
   "metadata": {},
   "outputs": [],
   "source": []
  },
  {
   "cell_type": "code",
   "execution_count": null,
   "metadata": {
    "scrolled": true
   },
   "outputs": [],
   "source": [
    "record_K_value = CSD_function_Copy2.Dirichlet_bd(maxIter, clamping_value, clamping_radius,\n",
    "                                 clamping_ticks, clamping_ticks_end,\n",
    "                                 foucs_loc,\n",
    "                                 K, Kt, R, Rt,\n",
    "                                 Kr, Kr, Kr, Kr)"
   ]
  },
  {
   "cell_type": "code",
   "execution_count": 11,
   "metadata": {},
   "outputs": [
    {
     "name": "stderr",
     "output_type": "stream",
     "text": [
      "100%|██████████| 2000/2000 [08:49<00:00,  4.07it/s]\n"
     ]
    }
   ],
   "source": [
    "# Diri, Neum, Perid\n",
    "point_value, R_value, speed = CSD.compute_fick_law('Diri', maxIter,\n",
    "                     clamping_value, clamping_radius, clamping_ticks, clamping_ticks_end,\n",
    "                     foucs_loc, K, Kt, R, Rt, \n",
    "                     Kr, Kr, Kr, Kr)\n",
    "\n",
    "# point_value, R_value = CSD_function.compute_fick_law('Neum', maxIter,\n",
    "#                      clamping_value, clamping_radius, clamping_ticks, clamping_ticks_end,\n",
    "#                      foucs_loc, K, Kt, R, Rt, \n",
    "#                      Kr, Kr, Kr, Kr)\n",
    "\n",
    "# point_value, R_value = CSD_function.compute_fick_law('Perid', maxIter,\n",
    "#                      clamping_value, clamping_radius, clamping_ticks, clamping_ticks_end,\n",
    "#                      foucs_loc, K, Kt, R, Rt)"
   ]
  },
  {
   "cell_type": "code",
   "execution_count": 12,
   "metadata": {},
   "outputs": [
    {
     "data": {
      "text/plain": [
       "0.8530805687203791"
      ]
     },
     "execution_count": 12,
     "metadata": {},
     "output_type": "execute_result"
    }
   ],
   "source": [
    "speed"
   ]
  },
  {
   "cell_type": "code",
   "execution_count": null,
   "metadata": {},
   "outputs": [],
   "source": []
  },
  {
   "cell_type": "code",
   "execution_count": 4,
   "metadata": {},
   "outputs": [
    {
     "data": {
      "text/plain": [
       "array([0.1, 0.2, 0.3, 0.4, 0.5, 0.6, 0.7, 0.8, 0.9, 1. ])"
      ]
     },
     "execution_count": 4,
     "metadata": {},
     "output_type": "execute_result"
    }
   ],
   "source": [
    "clamping_value=np.arange(0.1,1.1,0.1)\n",
    "clamping_value"
   ]
  },
  {
   "cell_type": "code",
   "execution_count": 6,
   "metadata": {},
   "outputs": [
    {
     "data": {
      "text/plain": [
       "array([ 1,  2,  3,  4,  5,  6,  7,  8,  9, 10])"
      ]
     },
     "execution_count": 6,
     "metadata": {},
     "output_type": "execute_result"
    }
   ],
   "source": [
    "clamping_radius=np.arange(1,11,1)\n",
    "clamping_radius"
   ]
  },
  {
   "cell_type": "code",
   "execution_count": null,
   "metadata": {},
   "outputs": [],
   "source": []
  },
  {
   "cell_type": "code",
   "execution_count": null,
   "metadata": {},
   "outputs": [],
   "source": [
    "result_point_value_time=pymp.shared.array((clamping_radius.shape[0]*clamping_value.shape[0],maxIter,4))\n",
    "result_R_value_time=pymp.shared.array((clamping_radius.shape[0]*clamping_value.shape[0],maxIter,4))\n",
    "result_speed = pymp.shared.array(clamping_radius.shape[0]*clamping_value.shape[0])\n",
    "\n",
    "with pymp.Parallel(20) as p:\n",
    "    for x in p.range(clamping_value.shape[0]*clamping_radius.shape[0]):\n",
    "        \n",
    "        print(x)\n",
    "\n",
    "        j = int(x/end_time.shape[0])\n",
    "        i = int(x - j*end_time.shape[0])\n",
    "        \n",
    "        \n",
    "        foucs_loc=np.array([[int(lenX/2),int(lenY/2),int(lenZ/2)],\n",
    "                            [int(lenX/2+clamping_radius[i]+2),int(lenY/2),int(lenZ/2)],\n",
    "                           [int(lenX/2+clamping_radius[i]*2),int(lenY/2),int(lenZ/2)],\n",
    "                           [int(lenX/2+clamping_radius[i]*3),int(lenY/2),int(lenZ/2)]])\n",
    "\n",
    "        point_value, R_value, speed = CSD.compute_fick_law('Diri', maxIter,\n",
    "                             clamping_value[j], clamping_radius[i], clamping_ticks, end_time,\n",
    "                             foucs_loc, K, Kt, R, Rt, \n",
    "                             Kr, Kr, Kr, Kr, Kr, Kr)\n",
    "\n",
    "        result_point_value_time[j*clamping_radius.shape[0]+i,:,:] = point_value\n",
    "        result_R_value_time[j*clamping_radius.shape[0]+i,:,:] = R_value\n",
    "        result_speed[j*clamping_radius.shape[0]+i]"
   ]
  },
  {
   "cell_type": "code",
   "execution_count": null,
   "metadata": {},
   "outputs": [],
   "source": []
  },
  {
   "cell_type": "code",
   "execution_count": null,
   "metadata": {},
   "outputs": [],
   "source": []
  },
  {
   "cell_type": "code",
   "execution_count": 9,
   "metadata": {},
   "outputs": [
    {
     "data": {
      "text/plain": [
       "(1000, 3)"
      ]
     },
     "execution_count": 9,
     "metadata": {},
     "output_type": "execute_result"
    }
   ],
   "source": [
    "point_value.shape"
   ]
  },
  {
   "cell_type": "code",
   "execution_count": 10,
   "metadata": {},
   "outputs": [],
   "source": [
    "K_R_value = np.zeros((maxIter,foucs_loc.shape[0],2))\n",
    "K_R_value[:,:,0] = point_value\n",
    "K_R_value[:,:,1] = R_value"
   ]
  },
  {
   "cell_type": "code",
   "execution_count": 11,
   "metadata": {
    "scrolled": true
   },
   "outputs": [
    {
     "data": {
      "text/plain": [
       "[<matplotlib.lines.Line2D at 0x12b964898>,\n",
       " <matplotlib.lines.Line2D at 0x12288e358>]"
      ]
     },
     "execution_count": 11,
     "metadata": {},
     "output_type": "execute_result"
    },
    {
     "data": {
      "image/png": "[encoded data removed]",
      "text/plain": [
       "<matplotlib.figure.Figure at 0x1246e7eb8>"
      ]
     },
     "metadata": {},
     "output_type": "display_data"
    }
   ],
   "source": [
    "plt.plot( K_R_value[:,0,:])"
   ]
  },
  {
   "cell_type": "code",
   "execution_count": 12,
   "metadata": {},
   "outputs": [
    {
     "data": {
      "text/plain": [
       "[<matplotlib.lines.Line2D at 0x1121f8400>,\n",
       " <matplotlib.lines.Line2D at 0x10eb99b00>]"
      ]
     },
     "execution_count": 12,
     "metadata": {},
     "output_type": "execute_result"
    },
    {
     "data": {
      "image/png": "[encoded data removed]",
      "text/plain": [
       "<matplotlib.figure.Figure at 0x12ca912b0>"
      ]
     },
     "metadata": {},
     "output_type": "display_data"
    }
   ],
   "source": [
    "plt.plot( K_R_value[:,1,:])"
   ]
  },
  {
   "cell_type": "code",
   "execution_count": null,
   "metadata": {},
   "outputs": [],
   "source": []
  },
  {
   "cell_type": "code",
   "execution_count": null,
   "metadata": {},
   "outputs": [],
   "source": []
  },
  {
   "cell_type": "code",
   "execution_count": 8,
   "metadata": {},
   "outputs": [
    {
     "name": "stderr",
     "output_type": "stream",
     "text": [
      "100%|██████████| 500/500 [00:05<00:00, 99.80it/s] \n"
     ]
    }
   ],
   "source": [
    "noconv_point_value, noconv_R_value = CSD_function.Dirichlet_noconv( maxIter,\n",
    "                                                       clamping_value, clamping_radius,\n",
    "                                                       clamping_ticks, clamping_ticks_end,\n",
    "                                                       foucs_loc,\n",
    "                                                       K, R)"
   ]
  },
  {
   "cell_type": "code",
   "execution_count": 9,
   "metadata": {},
   "outputs": [],
   "source": [
    "noconv_K_R_value = np.zeros((maxIter,foucs_loc.shape[0],2))\n",
    "noconv_K_R_value[:,:,0] = noconv_point_value\n",
    "noconv_K_R_value[:,:,1] = noconv_R_value"
   ]
  },
  {
   "cell_type": "code",
   "execution_count": 10,
   "metadata": {},
   "outputs": [
    {
     "data": {
      "text/plain": [
       "[<matplotlib.lines.Line2D at 0x1144f5e80>,\n",
       " <matplotlib.lines.Line2D at 0x1146c7eb8>]"
      ]
     },
     "execution_count": 10,
     "metadata": {},
     "output_type": "execute_result"
    },
    {
     "data": {
      "image/png": "[encoded data removed]",
      "text/plain": [
       "<matplotlib.figure.Figure at 0x1144e17f0>"
      ]
     },
     "metadata": {},
     "output_type": "display_data"
    }
   ],
   "source": [
    "plt.plot( noconv_K_R_value[:,0,:])"
   ]
  },
  {
   "cell_type": "code",
   "execution_count": 11,
   "metadata": {
    "scrolled": true
   },
   "outputs": [
    {
     "data": {
      "text/plain": [
       "[<matplotlib.lines.Line2D at 0x1147810f0>,\n",
       " <matplotlib.lines.Line2D at 0x114781240>]"
      ]
     },
     "execution_count": 11,
     "metadata": {},
     "output_type": "execute_result"
    },
    {
     "data": {
      "image/png": "[encoded data removed]",
      "text/plain": [
       "<matplotlib.figure.Figure at 0x11450a668>"
      ]
     },
     "metadata": {},
     "output_type": "display_data"
    }
   ],
   "source": [
    "plt.plot( noconv_K_R_value[:,1,:])"
   ]
  },
  {
   "cell_type": "code",
   "execution_count": null,
   "metadata": {},
   "outputs": [],
   "source": []
  },
  {
   "cell_type": "code",
   "execution_count": 13,
   "metadata": {
    "scrolled": true
   },
   "outputs": [],
   "source": [
    "# load all timesteps images\n",
    "images = []\n",
    "for image in sorted(glob.glob('../images/Diri/*.png'), key=lambda k: int(ntpath.basename(k).replace('.png', ''))):\n",
    "    images.append(imageio.imread(image))"
   ]
  },
  {
   "cell_type": "code",
   "execution_count": 14,
   "metadata": {},
   "outputs": [
    {
     "data": {
      "text/plain": [
       "<matplotlib.image.AxesImage at 0x12a6bb940>"
      ]
     },
     "execution_count": 14,
     "metadata": {},
     "output_type": "execute_result"
    },
    {
     "data": {
      "image/png": "[encoded data removed]",
      "text/plain": [
       "<matplotlib.figure.Figure at 0x1229e1828>"
      ]
     },
     "metadata": {},
     "output_type": "display_data"
    }
   ],
   "source": [
    "plt.imshow(images[400])"
   ]
  },
  {
   "cell_type": "code",
   "execution_count": 18,
   "metadata": {},
   "outputs": [
    {
     "data": {
      "text/plain": [
       "<VideoWriter 0x12d9031f0>"
      ]
     },
     "execution_count": 18,
     "metadata": {},
     "output_type": "execute_result"
    }
   ],
   "source": [
    "image_folder = '../images/Diri'\n",
    "video_name = '../vedio/Diffusion_donuts.mp4'\n",
    "\n",
    "images = []\n",
    "for i in range(maxIter):\n",
    "    images.append( str(int(i)) + \".png\")\n",
    "\n",
    "CSD_function.make_video(images, image_folder, video_name, outimg=None, fps=100, size=None, is_color=True, format=\"XVID\")"
   ]
  },
  {
   "cell_type": "code",
   "execution_count": null,
   "metadata": {},
   "outputs": [],
   "source": []
  }
 ],
 "metadata": {
  "kernelspec": {
   "display_name": "Python 3",
   "language": "python",
   "name": "python3"
  },
  "language_info": {
   "codemirror_mode": {
    "name": "ipython",
    "version": 3
   },
   "file_extension": ".py",
   "mimetype": "text/x-python",
   "name": "python",
   "nbconvert_exporter": "python",
   "pygments_lexer": "ipython3",
   "version": "3.6.4"
  }
 },
 "nbformat": 4,
 "nbformat_minor": 2
}
