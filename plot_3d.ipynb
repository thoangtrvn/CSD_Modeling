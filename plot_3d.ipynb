{
 "cells": [
  {
   "cell_type": "code",
   "execution_count": 3,
   "metadata": {},
   "outputs": [],
   "source": [
    "from mpl_toolkits.mplot3d import Axes3D\n",
    "import numpy as np\n",
    "import matplotlib.pyplot as plt\n",
    "import matplotlib.cm\n",
    "import matplotlib.colorbar\n",
    "import matplotlib.colors\n",
    "\n",
    "def cuboid_data(center, size=(1,1,1)):\n",
    "    # code taken from\n",
    "    # http://stackoverflow.com/questions/30715083/python-plotting-a-wireframe-3d-cuboid?noredirect=1&lq=1\n",
    "    # suppose axis direction: x: to left; y: to inside; z: to upper\n",
    "    # get the (left, outside, bottom) point\n",
    "    o = [a - b / 2 for a, b in zip(center, size)]\n",
    "    # get the length, width, and height\n",
    "    l, w, h = size\n",
    "    x = [[o[0], o[0] + l, o[0] + l, o[0], o[0]],  # x coordinate of points in bottom surface\n",
    "         [o[0], o[0] + l, o[0] + l, o[0], o[0]],  # x coordinate of points in upper surface\n",
    "         [o[0], o[0] + l, o[0] + l, o[0], o[0]],  # x coordinate of points in outside surface\n",
    "         [o[0], o[0] + l, o[0] + l, o[0], o[0]]]  # x coordinate of points in inside surface\n",
    "    y = [[o[1], o[1], o[1] + w, o[1] + w, o[1]],  # y coordinate of points in bottom surface\n",
    "         [o[1], o[1], o[1] + w, o[1] + w, o[1]],  # y coordinate of points in upper surface\n",
    "         [o[1], o[1], o[1], o[1], o[1]],          # y coordinate of points in outside surface\n",
    "         [o[1] + w, o[1] + w, o[1] + w, o[1] + w, o[1] + w]]    # y coordinate of points in inside surface\n",
    "    z = [[o[2], o[2], o[2], o[2], o[2]],                        # z coordinate of points in bottom surface\n",
    "         [o[2] + h, o[2] + h, o[2] + h, o[2] + h, o[2] + h],    # z coordinate of points in upper surface\n",
    "         [o[2], o[2], o[2] + h, o[2] + h, o[2]],                # z coordinate of points in outside surface\n",
    "         [o[2], o[2], o[2] + h, o[2] + h, o[2]]]                # z coordinate of points in inside surface\n",
    "    return x, y, z\n",
    "\n",
    "def plotCubeAt(pos=(0,0,0), c=\"b\", alpha=0.1, ax=None):\n",
    "    # Plotting N cube elements at position pos\n",
    "    if ax !=None:\n",
    "        X, Y, Z = cuboid_data( (pos[0],pos[1],pos[2]) )\n",
    "        ax.plot_surface(np.array(X), np.array(Y), np.array(Z), color=c, rstride=1, cstride=1, alpha=0.1)\n",
    "\n",
    "def plotMatrix(ax, x, y, z, data, cmap=\"jet\", cax=None, alpha=0.1):\n",
    "    # plot a Matrix \n",
    "    norm = matplotlib.colors.Normalize(vmin=data.min(), vmax=data.max())\n",
    "    colors = lambda i,j,k : matplotlib.cm.ScalarMappable(norm=norm,cmap = cmap).to_rgba(data[i,j,k]) \n",
    "    for i, xi in enumerate(x):\n",
    "            for j, yi in enumerate(y):\n",
    "                for k, zi, in enumerate(z):\n",
    "                    plotCubeAt(pos=(xi, yi, zi), c=colors(i,j,k), alpha=alpha,  ax=ax)\n",
    "\n",
    "\n",
    "\n",
    "    if cax !=None:\n",
    "        cbar = matplotlib.colorbar.ColorbarBase(cax, cmap=cmap,\n",
    "                                norm=norm,\n",
    "                                orientation='vertical')  \n",
    "        cbar.set_ticks(np.unique(data))\n",
    "        # set the colorbar transparent as well\n",
    "        cbar.solids.set(alpha=alpha) "
   ]
  },
  {
   "cell_type": "code",
   "execution_count": null,
   "metadata": {},
   "outputs": [],
   "source": []
  }
 ],
 "metadata": {
  "kernelspec": {
   "display_name": "Python 3",
   "language": "python",
   "name": "python3"
  },
  "language_info": {
   "codemirror_mode": {
    "name": "ipython",
    "version": 3
   },
   "file_extension": ".py",
   "mimetype": "text/x-python",
   "name": "python",
   "nbconvert_exporter": "python",
   "pygments_lexer": "ipython3",
   "version": "3.6.4"
  }
 },
 "nbformat": 4,
 "nbformat_minor": 2
}
