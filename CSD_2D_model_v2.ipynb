{
 "cells": [
  {
   "cell_type": "code",
   "execution_count": 1,
   "metadata": {},
   "outputs": [],
   "source": [
    "# Load Some Packages\n",
    "import numpy as np\n",
    "import imageio\n",
    "import scipy as sp\n",
    "from scipy import signal\n",
    "import matplotlib.pyplot as plt\n",
    "import os, glob, ntpath"
   ]
  },
  {
   "cell_type": "code",
   "execution_count": 2,
   "metadata": {},
   "outputs": [],
   "source": [
    "maxIter = 5000\n",
    "\n",
    "# Given the range of the rectangle\n",
    "lenX = 250\n",
    "lenY = 250\n",
    "\n",
    "deltaX = 1\n",
    "deltaY = 1\n",
    "deltaT = 0.1\n",
    "# Need to use CFL condition to verify the upper boundary of deltaT"
   ]
  },
  {
   "cell_type": "code",
   "execution_count": 3,
   "metadata": {},
   "outputs": [],
   "source": [
    "# Given Some Coefficients in Partial(K)/Partial(t)\n",
    "D = 0.75\n",
    "\n",
    "# Given Some Coefficients in F(K)\n",
    "A = -0.3\n",
    "Kr = 0.03\n",
    "Ktheta = 0.2\n",
    "Km = 1.0\n",
    "\n",
    "# Given Some Coefficients in Partial(r)/Partial(t)\n",
    "B = 0.0001\n",
    "C = 10.0"
   ]
  },
  {
   "cell_type": "code",
   "execution_count": 4,
   "metadata": {},
   "outputs": [],
   "source": [
    "# Given Initial values\n",
    "k_init = np.full([lenX, lenY], Kr, dtype=np.float64)\n",
    "kt_init = np.zeros([lenX, lenY], dtype=np.float64)\n",
    "r_init = np.zeros([lenX, lenY], dtype=np.float64)\n",
    "rt_init = np.zeros([lenX, lenY], dtype=np.float64)"
   ]
  },
  {
   "cell_type": "code",
   "execution_count": 5,
   "metadata": {},
   "outputs": [],
   "source": [
    "# # The number of the random points you want to pick\n",
    "# N = 10\n",
    "\n",
    "# # Pick N random point(s) and raise its or them value(s)\n",
    "# for n in range(N):\n",
    "#     a = np.random.randint(0, lenX)\n",
    "#     b = np.random.randint(0, lenY)\n",
    "#     k_init[a, b] = k_init[a, b] + np.random.uniform(0,1-Kr)"
   ]
  },
  {
   "cell_type": "code",
   "execution_count": 6,
   "metadata": {},
   "outputs": [
    {
     "data": {
      "text/plain": [
       "array([[ 1.,  1.,  1.],\n",
       "       [ 1., -8.,  1.],\n",
       "       [ 1.,  1.,  1.]])"
      ]
     },
     "execution_count": 6,
     "metadata": {},
     "output_type": "execute_result"
    }
   ],
   "source": [
    "# Definie the filter of the laplacian operator\n",
    "filter_laplacian = np.array([[1/deltaX/deltaY, 1/deltaY**2, 1/deltaX/deltaY],\n",
    "                           [1/deltaX**2, -4/deltaX/deltaY - 2/deltaX**2 - 2/deltaY**2, 1/deltaX**2],\n",
    "                           [1/deltaX/deltaY, 1/deltaY**2, 1/deltaX/deltaY]])\n",
    "filter_laplacian"
   ]
  },
  {
   "cell_type": "code",
   "execution_count": 7,
   "metadata": {},
   "outputs": [],
   "source": [
    "def Dirichlet_bd( maxIter, N, clamping_ticks, K, Kt, R, Rt, top, bottom, left, right):\n",
    "    \n",
    "    random_points = np.zeros([N,2])\n",
    "    random_points[:,0] = np.random.randint(0, lenX, N)\n",
    "    random_points[:,1] = np.random.randint(0, lenY, N)\n",
    "    \n",
    "    foucs_point_loc = np.random.randint(0, N)\n",
    "    foucs_point = random_points[foucs_point_loc,:]\n",
    "    foucs_point_value = np.zeros([maxIter, 2])\n",
    "    \n",
    "    # Fixed the boundary values\n",
    "    K[:,0] = left\n",
    "    K[:,-1] = right\n",
    "    K[0,:] = top\n",
    "    K[-1,:] = bottom\n",
    "    \n",
    "    for i in range(maxIter):\n",
    "\n",
    "        if i == clamping_ticks:\n",
    "            for p in range(N):\n",
    "                K[int(random_points[p,0]), int(random_points[p,1])] = K[int(random_points[p,0]), int(random_points[p,1])] + np.random.uniform(0,1-Kr)\n",
    "#                K[int(random_points[p,0]), int(random_points[p,1])] = 0.9\n",
    "\n",
    "        # Fick's second law\n",
    "        R = R + deltaT*Rt\n",
    "        Kt = D*sp.signal.convolve2d(K, filter_laplacian, mode = 'same') + A*(K - Kr)*(K - Ktheta)*(K - Km)*(K + 0.1) - R*K\n",
    "        K = K + deltaT*Kt\n",
    "\n",
    "        # Fixed the boundary values\n",
    "        K[:,0] = left\n",
    "        K[:,-1] = right\n",
    "        K[0,:] = top\n",
    "        K[-1,:] = bottom\n",
    "\n",
    "        # plot the images\n",
    "        plt.imsave('./images/{}.png'.format(i), K, cmap='gray')\n",
    "\n",
    "        # Fick's second law\n",
    "        Rt = B*((K-Kr) - C*R)\n",
    "\n",
    "        \n",
    "        foucs_point_value[i,0] = i\n",
    "        foucs_point_value[i,1] = K[int(foucs_point[0]),int(foucs_point[1])]\n",
    "        \n",
    "    return foucs_point_value"
   ]
  },
  {
   "cell_type": "code",
   "execution_count": 8,
   "metadata": {},
   "outputs": [],
   "source": [
    "def Neumann_bd( maxIter, N, clamping_ticks, K, Kt, R, Rt, top, bottom, left, right):\n",
    "    \n",
    "    random_points = np.zeros([N,2])\n",
    "    random_points[:,0] = np.random.randint(0, lenX, N)\n",
    "    random_points[:,1] = np.random.randint(0, lenY, N)\n",
    "    \n",
    "    foucs_point_loc = np.random.randint(0, N)\n",
    "    foucs_point = random_points[foucs_point_loc,:]\n",
    "    foucs_point_value = np.zeros([maxIter, 2])\n",
    "    \n",
    "    \n",
    "    for i in range(maxIter):\n",
    "\n",
    "        if i == clamping_ticks:\n",
    "            for p in range(N):\n",
    "#                 K[int(random_points[p,0]), int(random_points[p,1])] = K[int(random_points[p,0]), int(random_points[p,1])] + np.random.uniform(0,1-Kr)\n",
    "                K[int(random_points[p,0]), int(random_points[p,1])] = 0.9\n",
    "        \n",
    "        # Fick's second law\n",
    "        R = R + deltaT*Rt\n",
    "\n",
    "        Kt = sp.signal.convolve2d(K, filter_laplacian, mode = 'same')\n",
    "        \n",
    "        # Fixed the differential boundary values\n",
    "        Kt[:,0] = left\n",
    "        Kt[:,-1] = right\n",
    "        Kt[0,:] = top\n",
    "        Kt[-1,:] = bottom\n",
    "        \n",
    "        Kt = D*Kt + A*(K - Kr)*(K - Ktheta)*(K - Km)*(K + 0.1) - R*K\n",
    "        K = K + deltaT*Kt\n",
    "        \n",
    "        # plot the images\n",
    "        plt.imsave('./images/{}.png'.format(i), K, cmap='gray')\n",
    "\n",
    "        # Fick's second law\n",
    "        Rt = B*((K-Kr) - C*R)\n",
    "\n",
    "        foucs_point_value[i,0] = i\n",
    "        foucs_point_value[i,1] = K[int(foucs_point[0])+5,int(foucs_point[1])+5]\n",
    "        \n",
    "    return foucs_point_value"
   ]
  },
  {
   "cell_type": "code",
   "execution_count": 9,
   "metadata": {},
   "outputs": [],
   "source": [
    "def Periodic_bd( maxIter, N, clamping_ticks, K, Kt, R, Rt):\n",
    "\n",
    "    random_points = np.zeros([N,2])\n",
    "    random_points[:,0] = np.random.randint(0, lenX, N)\n",
    "    random_points[:,1] = np.random.randint(0, lenY, N)\n",
    "    \n",
    "    foucs_point_loc = np.random.randint(0, N)\n",
    "    foucs_point = random_points[foucs_point_loc,:]\n",
    "    foucs_point_value = np.zeros([maxIter, 2])\n",
    "    \n",
    "#     raise_value_ticks = (1 - Kr) / (clamping_ticks*0.01)\n",
    "    \n",
    "    \n",
    "    for i in range(maxIter):\n",
    "\n",
    "        if i == clamping_ticks:\n",
    "            for p in range(N):\n",
    "#                 K[int(random_points[p,0]), int(random_points[p,1])] = K[int(random_points[p,0]), int(random_points[p,1])] + np.random.uniform(0,1-Kr)\n",
    "                K[int(random_points[p,0]), int(random_points[p,1])] = 0.9\n",
    "            \n",
    "            \n",
    "            \n",
    "#         if i >= clamping_ticks*0.995 and i <= clamping_ticks*1.005:\n",
    "#             for p in range(N):\n",
    "#                 K[int(random_points[p,0]), int(random_points[p,1])] = K[int(random_points[p,0]), int(random_points[p,1])] + raise_value_ticks\n",
    "\n",
    "#         l = 100\n",
    "\n",
    "#         if i >= clamping_ticks-l and i <= clamping_ticks+l:\n",
    "# #             for p in range(N):\n",
    "# #                 K[int(random_points[p,0]), int(random_points[p,1])] = np.exp((i-clamping_ticks)*4/l)/(np.exp((i-clamping_ticks)*4/l) + 1)\n",
    "# #                 if K[int(random_points[p,0]), int(random_points[p,1])] <= Kr:\n",
    "# #                     K[int(random_points[p,0]), int(random_points[p,1])] = Kr\n",
    "# #                 elif K[int(random_points[p,0]), int(random_points[p,1])] >= 1:\n",
    "# #                     K[int(random_points[p,0]), int(random_points[p,1])] = 1\n",
    "#             for p in range(N):\n",
    "#                 K[int(random_points[p,0]), int(random_points[p,1])] = K[int(random_points[p,0]), int(random_points[p,1])] + \\\n",
    "#                                 (Km - K[int(random_points[p,0]), int(random_points[p,1])])/2/l\n",
    "        \n",
    "        \n",
    "        \n",
    "        # Fick's second law\n",
    "        R = R + deltaT*Rt\n",
    "        Kt = D*sp.signal.convolve2d(K, filter_laplacian, mode = 'same', boundary = 'wrap') + A*(K - Kr)*(K - Ktheta)*(K - Km)*(K + 0.1) - R*K\n",
    "        K = K + deltaT*Kt\n",
    "        \n",
    "        # plot the images\n",
    "        plt.imsave('./images/{}.png'.format(i), K, cmap='gray')\n",
    "\n",
    "        # Fick's second law\n",
    "        Rt = B*((K-Kr) - C*R)\n",
    "\n",
    "        foucs_point_value[i,0] = i\n",
    "        foucs_point_value[i,1] = K[int(foucs_point[0])+5,int(foucs_point[1])+5]\n",
    "        \n",
    "    return foucs_point_value"
   ]
  },
  {
   "cell_type": "code",
   "execution_count": 10,
   "metadata": {},
   "outputs": [],
   "source": [
    "def compute_fick_law(boundary, N = 1, clamping_ticks = 100, top = 0.0, bottom = 0.0, left = 0.0, right = 0.0):\n",
    "    '''N: The number of the random points you want to pick'''\n",
    "    '''clamping_ticks: '''\n",
    "    \n",
    "    # remove other images in the dir\n",
    "    for image in sorted(glob.glob('./images/*.png'), key=lambda k: int(ntpath.basename(k).replace('.png', ''))):\n",
    "        os.remove(image)\n",
    "    \n",
    "    # Fixed the initial values\n",
    "    K = k_init\n",
    "    Kt = kt_init\n",
    "    R = r_init\n",
    "    Rt = rt_init\n",
    "    \n",
    "    if boundary == 'Diri':\n",
    "        point_value = Dirichlet_bd( maxIter, N, clamping_ticks, K, Kt, R, Rt, top, bottom, left, right)\n",
    "        \n",
    "    elif boundary == 'Neum':\n",
    "        point_value = Neumann_bd( maxIter, N, clamping_ticks, K, Kt, R, Rt, top, bottom, left, right)\n",
    "        \n",
    "    elif boundary == 'Perid':\n",
    "        point_value = Periodic_bd( maxIter, N, clamping_ticks, K, Kt, R, Rt)\n",
    "        \n",
    "    return point_value"
   ]
  },
  {
   "cell_type": "code",
   "execution_count": 21,
   "metadata": {},
   "outputs": [],
   "source": [
    "# Diri, Neum, Perid\n",
    "# point_value = compute_fick_law('Diri', N = 1, clamping_ticks = 200, top = Kr, bottom = Kr, left = Kr, right = Kr)\n",
    "# point_value = compute_fick_law('Neum', N = 1, clamping_ticks = 200)\n",
    "point_value = compute_fick_law('Perid', N = 1, clamping_ticks = 200)"
   ]
  },
  {
   "cell_type": "code",
   "execution_count": 22,
   "metadata": {},
   "outputs": [],
   "source": [
    "# load all timesteps images\n",
    "images = []\n",
    "for image in sorted(glob.glob('./images/*.png'), key=lambda k: int(ntpath.basename(k).replace('.png', ''))):\n",
    "    images.append(imageio.imread(image))\n",
    "    "
   ]
  },
  {
   "cell_type": "code",
   "execution_count": 23,
   "metadata": {},
   "outputs": [
    {
     "data": {
      "text/plain": [
       "<matplotlib.image.AxesImage at 0x1c5451f860>"
      ]
     },
     "execution_count": 23,
     "metadata": {},
     "output_type": "execute_result"
    },
    {
     "data": {
      "image/png": "[encoded data removed]",
      "text/plain": [
       "<matplotlib.figure.Figure at 0x10a700828>"
      ]
     },
     "metadata": {},
     "output_type": "display_data"
    }
   ],
   "source": [
    "plt.imshow(images[3000], cmap='gray')"
   ]
  },
  {
   "cell_type": "code",
   "execution_count": 24,
   "metadata": {},
   "outputs": [],
   "source": [
    "# compute the gif\n",
    "imageio.mimsave('images.gif', images)"
   ]
  },
  {
   "cell_type": "code",
   "execution_count": 25,
   "metadata": {},
   "outputs": [
    {
     "data": {
      "text/plain": [
       "[<matplotlib.lines.Line2D at 0x1c605b9898>]"
      ]
     },
     "execution_count": 25,
     "metadata": {},
     "output_type": "execute_result"
    },
    {
     "data": {
      "image/png": "[encoded data removed]",
      "text/plain": [
       "<matplotlib.figure.Figure at 0x1c545280f0>"
      ]
     },
     "metadata": {},
     "output_type": "display_data"
    }
   ],
   "source": [
    "plt.plot(point_value[:2000,1])"
   ]
  },
  {
   "cell_type": "code",
   "execution_count": null,
   "metadata": {},
   "outputs": [],
   "source": []
  }
 ],
 "metadata": {
  "kernelspec": {
   "display_name": "Python 3",
   "language": "python",
   "name": "python3"
  },
  "language_info": {
   "codemirror_mode": {
    "name": "ipython",
    "version": 3
   },
   "file_extension": ".py",
   "mimetype": "text/x-python",
   "name": "python",
   "nbconvert_exporter": "python",
   "pygments_lexer": "ipython3",
   "version": "3.6.4"
  }
 },
 "nbformat": 4,
 "nbformat_minor": 2
}
