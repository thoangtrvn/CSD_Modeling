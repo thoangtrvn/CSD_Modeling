{
 "cells": [
  {
   "cell_type": "code",
   "execution_count": 1,
   "metadata": {},
   "outputs": [],
   "source": [
    "# Load Some Packages\n",
    "import numpy as np\n",
    "import imageio\n",
    "import scipy as sp\n",
    "from scipy import signal\n",
    "import matplotlib.pyplot as plt\n",
    "import os, glob, ntpath"
   ]
  },
  {
   "cell_type": "code",
   "execution_count": 36,
   "metadata": {},
   "outputs": [],
   "source": [
    "maxIter = 500\n",
    "\n",
    "# Given the range of the rectangle\n",
    "lenX = 250\n",
    "lenY = 250\n",
    "\n",
    "deltaX = 1\n",
    "deltaY = 1\n",
    "deltaT = 0.1"
   ]
  },
  {
   "cell_type": "code",
   "execution_count": 37,
   "metadata": {},
   "outputs": [],
   "source": [
    "# Given Some Coefficients in Partial(K)/Partial(t)\n",
    "D = 0.75\n",
    "\n",
    "# Given Some Coefficients in F(K)\n",
    "A = -0.3\n",
    "Kr = 0.03\n",
    "Ktheta = 0.2\n",
    "Km = 1.0\n",
    "\n",
    "# Given Some Coefficients in Partial(r)/Partial(t)\n",
    "B = 0.0001\n",
    "C = 10.0"
   ]
  },
  {
   "cell_type": "code",
   "execution_count": 38,
   "metadata": {},
   "outputs": [],
   "source": [
    "# Given Initial values\n",
    "k_init = np.full([lenX, lenY], Kr, dtype=np.float64)\n",
    "kt_init = np.zeros([lenX, lenY], dtype=np.float64)\n",
    "r_init = np.zeros([lenX, lenY], dtype=np.float64)\n",
    "rt_init = np.zeros([lenX, lenY], dtype=np.float64)"
   ]
  },
  {
   "cell_type": "code",
   "execution_count": 39,
   "metadata": {},
   "outputs": [],
   "source": [
    "# The number of the random points you want to pick\n",
    "N = 10\n",
    "\n",
    "# Pick N random point(s) and raise its or them value(s)\n",
    "for n in range(N):\n",
    "    a = np.random.randint(0, lenX)\n",
    "    b = np.random.randint(0, lenY)\n",
    "    k_init[a, b] = k_init[a, b] + np.random.uniform(0,1-Kr)"
   ]
  },
  {
   "cell_type": "code",
   "execution_count": 40,
   "metadata": {},
   "outputs": [
    {
     "data": {
      "text/plain": [
       "array([[ 1.,  1.,  1.],\n",
       "       [ 1., -8.,  1.],\n",
       "       [ 1.,  1.,  1.]])"
      ]
     },
     "execution_count": 40,
     "metadata": {},
     "output_type": "execute_result"
    }
   ],
   "source": [
    "# Definie the filter of the laplacian operator\n",
    "filter_laplacian = np.array([[1/deltaX/deltaY, 1/deltaY**2, 1/deltaX/deltaY],\n",
    "                           [1/deltaX**2, -4/deltaX/deltaY - 2/deltaX**2 - 2/deltaY**2, 1/deltaX**2],\n",
    "                           [1/deltaX/deltaY, 1/deltaY**2, 1/deltaX/deltaY]])\n",
    "filter_laplacian"
   ]
  },
  {
   "cell_type": "code",
   "execution_count": 41,
   "metadata": {},
   "outputs": [],
   "source": [
    "def compute_fick_law(boundary, top = 0.0, bottom = 0.0, left = 0.0, right = 0.0):\n",
    "    \n",
    "    # remove images\n",
    "    for image in sorted(glob.glob('./images/*.png'), key=lambda k: int(ntpath.basename(k).replace('.png', ''))):\n",
    "        os.remove(image)\n",
    "    \n",
    "    # Fixed the initial values\n",
    "    K = k_init\n",
    "    Kt = kt_init\n",
    "    R = r_init\n",
    "    Rt = rt_init\n",
    "    \n",
    "    if boundary == 'Diri':\n",
    "        \n",
    "        # Fixed the boundary values\n",
    "        K[:,0] = left\n",
    "        K[:,-1] = right\n",
    "        K[0,:] = top\n",
    "        K[-1,:] = bottom\n",
    "        \n",
    "        for i in range(maxIter):\n",
    "            \n",
    "            # Fick's second law\n",
    "            R = R + deltaT*Rt\n",
    "            Kt = D*sp.signal.convolve2d(K, filter_laplacian, mode = 'same') + A*(K - Kr)*(K - Ktheta)*(K - Km)*(K + 0.1) - R*K\n",
    "            K = K + deltaT*Kt\n",
    "\n",
    "            # Fixed the boundary values\n",
    "            K[:,0] = left\n",
    "            K[:,-1] = right\n",
    "            K[0,:] = top\n",
    "            K[-1,:] = bottom\n",
    "            \n",
    "            # plot the images\n",
    "            plt.imsave('./images/{}.png'.format(i), K, cmap='gray')\n",
    "            \n",
    "            # Fick's second law\n",
    "            Rt = B*((K-Kr) - C*R)\n",
    "        \n",
    "    elif boundary == 'Neum':\n",
    "        \n",
    "        for i in range(maxIter):\n",
    "            \n",
    "            # Fick's second law\n",
    "            R = R + deltaT*Rt\n",
    "            \n",
    "            Kt = sp.signal.convolve2d(K, filter_laplacian, mode = 'same', boundary = 'symm')\n",
    "            \n",
    "            # Fixed the differential boundary values\n",
    "            Kt[:,0] = left\n",
    "            Kt[:,-1] = right\n",
    "            Kt[0,:] = top\n",
    "            Kt[-1,:] = bottom \n",
    "            \n",
    "            Kt = D*Kt + A*(K - Kr)*(K - Ktheta)*(K - Km)*(K + 0.1) - R*K\n",
    "            K = K + deltaT*Kt\n",
    "            \n",
    "            # plot the images\n",
    "            plt.imsave('./images/{}.png'.format(i), K, cmap='gray')\n",
    "            \n",
    "            # Fick's second law\n",
    "            Rt = B*((K-Kr) - C*R)\n",
    "        \n",
    "    elif boundary == 'Perid':\n",
    "        \n",
    "        for i in range(maxIter):\n",
    "            \n",
    "            # Fick's second law\n",
    "            R = R + deltaT*Rt\n",
    "            Kt = D*sp.signal.convolve2d(K, filter_laplacian, mode = 'same', boundary = 'wrap') + A*(K - Kr)*(K - Ktheta)*(K - Km)*(K + 0.1) - R*K\n",
    "            K = K + deltaT*Kt\n",
    "            \n",
    "            # plot the images\n",
    "            plt.imsave('./images/{}.png'.format(i), K, cmap='gray')\n",
    "            \n",
    "            # Fick's second law\n",
    "            Rt = B*((K-Kr) - C*R)\n",
    "            "
   ]
  },
  {
   "cell_type": "code",
   "execution_count": 45,
   "metadata": {},
   "outputs": [],
   "source": [
    "# Diri, Neum, Perid\n",
    "compute_fick_law('Ne')"
   ]
  },
  {
   "cell_type": "code",
   "execution_count": 46,
   "metadata": {},
   "outputs": [
    {
     "data": {
      "text/plain": [
       "<matplotlib.image.AxesImage at 0x1c1c27a048>"
      ]
     },
     "execution_count": 46,
     "metadata": {},
     "output_type": "execute_result"
    },
    {
     "data": {
      "image/png": "[encoded data removed]",
      "text/plain": [
       "<matplotlib.figure.Figure at 0x1c0b26cc18>"
      ]
     },
     "metadata": {},
     "output_type": "display_data"
    }
   ],
   "source": [
    "# load all timesteps images\n",
    "images = []\n",
    "for image in sorted(glob.glob('./images/*.png'), key=lambda k: int(ntpath.basename(k).replace('.png', ''))):\n",
    "    images.append(imageio.imread(image))\n",
    "    \n",
    "plt.imshow(images[100], cmap='gray')"
   ]
  },
  {
   "cell_type": "code",
   "execution_count": 47,
   "metadata": {},
   "outputs": [],
   "source": [
    "# compute the gif\n",
    "imageio.mimsave('images.gif', images)"
   ]
  },
  {
   "cell_type": "code",
   "execution_count": null,
   "metadata": {},
   "outputs": [],
   "source": []
  }
 ],
 "metadata": {
  "kernelspec": {
   "display_name": "Python 3",
   "language": "python",
   "name": "python3"
  },
  "language_info": {
   "codemirror_mode": {
    "name": "ipython",
    "version": 3
   },
   "file_extension": ".py",
   "mimetype": "text/x-python",
   "name": "python",
   "nbconvert_exporter": "python",
   "pygments_lexer": "ipython3",
   "version": "3.6.4"
  }
 },
 "nbformat": 4,
 "nbformat_minor": 2
}
