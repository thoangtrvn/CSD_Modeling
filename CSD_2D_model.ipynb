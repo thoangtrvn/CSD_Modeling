{
 "cells": [
  {
   "cell_type": "code",
   "execution_count": 11,
   "metadata": {},
   "outputs": [],
   "source": [
    "# Load Some Packages\n",
    "import numpy as np\n",
    "import imageio\n",
    "import scipy as sp\n",
    "from scipy import signal\n",
    "import matplotlib.pyplot as plt\n",
    "import seaborn as sns\n",
    "import os, glob, ntpath"
   ]
  },
  {
   "cell_type": "code",
   "execution_count": 12,
   "metadata": {},
   "outputs": [],
   "source": [
    "# Given Some Coefficients in Partial(K)/Partial(t)\n",
    "D = 0.75\n",
    "\n",
    "# Given Some Coefficients in F(K)\n",
    "A = -0.3\n",
    "Kr = 0.03\n",
    "Ktheta = 0.2\n",
    "Km = 1.0\n",
    "r = 8\n",
    "\n",
    "# Given Some Coefficients in Partial(r)/Partial(t)\n",
    "B = 0.0001\n",
    "C = 10.0\n",
    "\n",
    "# max & min in colorbar\n",
    "vmax = 1.0\n",
    "vmin = 0.0"
   ]
  },
  {
   "cell_type": "code",
   "execution_count": 13,
   "metadata": {},
   "outputs": [
    {
     "data": {
      "text/plain": [
       "0.0025000000000000005"
      ]
     },
     "execution_count": 13,
     "metadata": {},
     "output_type": "execute_result"
    }
   ],
   "source": [
    "# Timesteps\n",
    "maxIter = 2000\n",
    "\n",
    "# Given the range of the rectangle\n",
    "lenX = 200\n",
    "lenY = 200\n",
    "\n",
    "deltaX = 0.1\n",
    "deltaY = 0.1\n",
    "deltaT = (deltaX*deltaY)**2/(deltaX**2 + deltaY**2)/2/D\n",
    "D*deltaT"
   ]
  },
  {
   "cell_type": "code",
   "execution_count": 14,
   "metadata": {},
   "outputs": [],
   "source": [
    "# Given Initial values\n",
    "k_init = np.full([lenX, lenY], Kr, dtype=np.float64)\n",
    "kt_init = np.zeros([lenX, lenY], dtype=np.float64)\n",
    "r_init = np.zeros([lenX, lenY], dtype=np.float64)\n",
    "rt_init = np.zeros([lenX, lenY], dtype=np.float64)"
   ]
  },
  {
   "cell_type": "code",
   "execution_count": 15,
   "metadata": {},
   "outputs": [
    {
     "data": {
      "text/plain": [
       "array([[   0.,  100.,    0.],\n",
       "       [ 100., -400.,  100.],\n",
       "       [   0.,  100.,    0.]])"
      ]
     },
     "execution_count": 15,
     "metadata": {},
     "output_type": "execute_result"
    }
   ],
   "source": [
    "# Definie the filter of the laplacian operator\n",
    "filter_laplacian = np.array([[1/deltaX/deltaY, 1/deltaY**2, 1/deltaX/deltaY],\n",
    "                           [1/deltaX**2, -4/deltaX/deltaY - 2/deltaX**2 - 2/deltaY**2, 1/deltaX**2],\n",
    "                           [1/deltaX/deltaY, 1/deltaY**2, 1/deltaX/deltaY]])\n",
    "\n",
    "filter_laplacian = np.array([[0, 1/deltaY**2, 0],\n",
    "                           [1/deltaX**2, - 2/deltaX**2 - 2/deltaY**2, 1/deltaX**2],\n",
    "                           [0, 1/deltaY**2, 0]])\n",
    "\n",
    "filter_laplacian"
   ]
  },
  {
   "cell_type": "code",
   "execution_count": 16,
   "metadata": {},
   "outputs": [],
   "source": [
    "def Dirichlet_bd( maxIter, clamping_ticks, K, Kt, R, Rt, top, bottom, left, right):\n",
    "    \n",
    "    center_point_loc = np.zeros((2,1))\n",
    "    center_point_loc[0,0] = int(lenX/2)\n",
    "    center_point_loc[1,0] = int(lenY/2)\n",
    "    center_point_value = np.zeros([maxIter, 2])\n",
    "    R_value = np.zeros([maxIter, 2])\n",
    "    \n",
    "    # Fixed the boundary values\n",
    "    K[:,0] = left\n",
    "    K[:,-1] = right\n",
    "    K[0,:] = top\n",
    "    K[-1,:] = bottom\n",
    "    \n",
    "    for i in range(maxIter):\n",
    "        \n",
    "        if i >= clamping_ticks and i <= clamping_ticks + 1:  \n",
    "            r2 = r**2\n",
    "            for a in range(lenX):\n",
    "                for b in range(lenY):\n",
    "                    dis2 = (a-center_point_loc[0,0])**2 + (b-center_point_loc[1,0])**2\n",
    "                    if dis2 < r2:\n",
    "                        K[a,b] = Km\n",
    "            \n",
    "\n",
    "        # Fick's second law\n",
    "        R = R + deltaT*Rt\n",
    "        Kt = D*sp.signal.convolve2d(K, filter_laplacian, mode = 'same', boundary='symm') + A*(K - Kr)*(K - Ktheta)*(K - Km)*(K + 0.1) - R*K\n",
    "        K = K + deltaT*Kt\n",
    "\n",
    "        # Fixed the boundary values\n",
    "        K[:,0] = left\n",
    "        K[:,-1] = right\n",
    "        K[0,:] = top\n",
    "        K[-1,:] = bottom\n",
    "\n",
    "        # plot the images\n",
    "#         plt.imsave('./images/{}.png'.format(i), K, cmap = 'hot')\n",
    "#         plt.imsave('./images/{}.png'.format(i), K, cmap = 'hot', vmin = 0, vmax = 1)\n",
    "        \n",
    "        fig, ax = plt.subplots()\n",
    "        im = ax.imshow(K, cmap='hot', vmin=vmin,vmax=vmax)\n",
    "        ax.set_axis_off()\n",
    "        fig.colorbar(im, cax=fig.add_axes(), orientation='vertical')\n",
    "        plt.savefig('./images/{}.png'.format(i))\n",
    "#         im_K = K\n",
    "#         im_K[0,0] = 1\n",
    "#         im_K[lenX-1, lenY-1] = 0\n",
    "#         plt.imsave('./images/{}.png'.format(i), im_K, cmap = 'hot')\n",
    "        \n",
    "#         fig, ax = plt.subplots()\n",
    "#         cax = fig.add_axes()\n",
    "\n",
    "#         if i < clamping_ticks:\n",
    "            \n",
    "#             im_K = K\n",
    "#             im_K[0,0] = 1\n",
    "#             im_K[lenX-1, lenY-1] = 0\n",
    "#             im = ax.imshow(im_K, cmap='hot')\n",
    "#             fig.colorbar(im, cax=cax, orientation='vertical')\n",
    "#             plt.savefig('./images/{}.png'.format(i))\n",
    "            \n",
    "#         else:\n",
    "#             im = ax.imshow(K, cmap='hot', vmin=vmin,vmax=vmax)\n",
    "#             fig.colorbar(im, cax=cax, orientation='vertical')\n",
    "#             plt.savefig('./images/{}.png'.format(i))\n",
    "\n",
    "        # Fick's second law\n",
    "        Rt = B*((K-Kr) - C*R)\n",
    "        \n",
    "        center_point_value[i,0] = i\n",
    "        center_point_value[i,1] = K[int(center_point_loc[0,0]),int(center_point_loc[1,0])]\n",
    "        R_value[i,0] = i\n",
    "        R_value[i,1] = R[int(center_point_loc[0,0]),int(center_point_loc[1,0])]\n",
    "        \n",
    "    return center_point_value, R_value"
   ]
  },
  {
   "cell_type": "code",
   "execution_count": 17,
   "metadata": {},
   "outputs": [],
   "source": [
    "def Neumann_bd( maxIter, clamping_ticks, K, Kt, R, Rt, top, bottom, left, right):\n",
    "    \n",
    "    center_point_loc = np.zeros((2,1))\n",
    "    center_point_loc[0,0] = int(lenX/2)\n",
    "    center_point_loc[1,0] = int(lenY/2)\n",
    "    center_point_value = np.zeros([maxIter, 2])\n",
    "    R_value = np.zeros([maxIter, 2])\n",
    "    \n",
    "    \n",
    "    for i in range(maxIter):\n",
    "\n",
    "        if i == clamping_ticks:  \n",
    "            r2 = r**2\n",
    "            for a in range(lenX):\n",
    "                for b in range(lenY):\n",
    "                    dis2 = (a-center_point_loc[0,0])**2 + (b-center_point_loc[1,0])**2\n",
    "                    if dis2 < r2:\n",
    "                        K[a,b] = Km\n",
    "        \n",
    "        # Fick's second law\n",
    "        R = R + deltaT*Rt\n",
    "\n",
    "        Kt = sp.signal.convolve2d(K, filter_laplacian, mode = 'same')\n",
    "        \n",
    "        # Fixed the differential boundary values\n",
    "        Kt[:,0] = left\n",
    "        Kt[:,-1] = right\n",
    "        Kt[0,:] = top\n",
    "        Kt[-1,:] = bottom\n",
    "        \n",
    "        Kt = D*Kt + A*(K - Kr)*(K - Ktheta)*(K - Km)*(K + 0.1) - R*K\n",
    "        K = K + deltaT*Kt\n",
    "        \n",
    "        # plot the images\n",
    "#         plt.imsave('./images/{}.png'.format(i), K, cmap = 'hot')\n",
    "        plt.imsave('./images/{}.png'.format(i), K, cmap='hot', vmin = 0, vmax = 1)\n",
    "        \n",
    "#         fig, ax = plt.subplots()\n",
    "#         cax = fig.add_axes()\n",
    "\n",
    "#         if i < clamping_ticks:\n",
    "            \n",
    "#             im_K = K\n",
    "#             im_K[0,0] = 1\n",
    "#             im_K[lenX-1, lenY-1] = 0\n",
    "#             im = ax.imshow(im_K, cmap='hot')\n",
    "#             fig.colorbar(im, cax=cax, orientation='vertical')\n",
    "#             plt.savefig('./images/{}.png'.format(i))\n",
    "            \n",
    "#         else:\n",
    "#             im = ax.imshow(K, cmap='hot')\n",
    "#             fig.colorbar(im, cax=cax, orientation='vertical')\n",
    "#             plt.savefig('./images/{}.png'.format(i))\n",
    "\n",
    "        # Fick's second law\n",
    "        Rt = B*((K-Kr) - C*R)\n",
    "\n",
    "        center_point_value[i,0] = i\n",
    "        center_point_value[i,1] = K[int(center_point_loc[0,0]),int(center_point_loc[1,0])]\n",
    "        R_value[i,0] = i\n",
    "        R_value[i,1] = R[int(center_point_loc[0,0]),int(center_point_loc[1,0])]\n",
    "        \n",
    "    return center_point_value, R_value"
   ]
  },
  {
   "cell_type": "code",
   "execution_count": 18,
   "metadata": {},
   "outputs": [],
   "source": [
    "def Periodic_bd( maxIter, clamping_ticks, K, Kt, R, Rt):\n",
    "\n",
    "    center_point_loc = np.zeros((2,1))\n",
    "    center_point_loc[0,0] = int(lenX/2)\n",
    "    center_point_loc[1,0] = int(lenY/2)\n",
    "    center_point_value = np.zeros([maxIter, 2])\n",
    "    R_value = np.zeros([maxIter, 2])\n",
    "    \n",
    "    \n",
    "    for i in range(maxIter):\n",
    "\n",
    "        if i == clamping_ticks:  \n",
    "            r2 = r**2\n",
    "            for a in range(lenX):\n",
    "                for b in range(lenY):\n",
    "                    dis2 = (a-center_point_loc[0,0])**2 + (b-center_point_loc[1,0])**2\n",
    "                    if dis2 < r2:\n",
    "                        K[a,b] = Km\n",
    "        \n",
    "        # Fick's second law\n",
    "        R = R + deltaT*Rt\n",
    "        Kt = D*sp.signal.convolve2d(K, filter_laplacian, mode = 'same', boundary = 'wrap') + A*(K - Kr)*(K - Ktheta)*(K - Km)*(K + 0.1) - R*K\n",
    "        K = K + deltaT*Kt\n",
    "        \n",
    "        # plot the images\n",
    "#         plt.imsave('./images/{}.png'.format(i), K, cmap='hot')\n",
    "        plt.imsave('./images/{}.png'.format(i), K, cmap = 'hot', vmin = 0, vmax = 1)\n",
    "\n",
    "#         fig, ax = plt.subplots()\n",
    "#         cax = fig.add_axes()\n",
    "\n",
    "#         if i < clamping_ticks:\n",
    "            \n",
    "#             im_K = K\n",
    "#             im_K[0,0] = 1\n",
    "#             im_K[lenX-1, lenY-1] = 0\n",
    "#             im = ax.imshow(im_K, cmap='hot')\n",
    "#             fig.colorbar(im, cax=cax, orientation='vertical')\n",
    "#             plt.savefig('./images/{}.png'.format(i))\n",
    "            \n",
    "#         else:\n",
    "#             im = ax.imshow(K, cmap='hot')\n",
    "#             fig.colorbar(im, cax=cax, orientation='vertical')\n",
    "#             plt.savefig('./images/{}.png'.format(i))\n",
    "\n",
    "        # Fick's second law\n",
    "        Rt = B*((K-Kr) - C*R)\n",
    "\n",
    "        center_point_value[i,0] = i\n",
    "        center_point_value[i,1] = K[int(center_point_loc[0,0]),int(center_point_loc[1,0])]\n",
    "        R_value[i,0] = i\n",
    "        R_value[i,1] = R[int(center_point_loc[0,0]),int(center_point_loc[1,0])]\n",
    "        \n",
    "    return center_point_value, R_value"
   ]
  },
  {
   "cell_type": "code",
   "execution_count": 19,
   "metadata": {},
   "outputs": [],
   "source": [
    "def compute_fick_law(boundary, clamping_ticks = 100, top = 0.0, bottom = 0.0, left = 0.0, right = 0.0):\n",
    "    '''N: The number of the random points you want to pick'''\n",
    "    '''clamping_ticks: '''\n",
    "    \n",
    "    # remove other images in the dir\n",
    "    for image in sorted(glob.glob('./images/*.png'), key=lambda k: int(ntpath.basename(k).replace('.png', ''))):\n",
    "        os.remove(image)\n",
    "    \n",
    "    # Fixed the initial values\n",
    "    K = k_init\n",
    "    Kt = kt_init\n",
    "    R = r_init\n",
    "    Rt = rt_init\n",
    "    \n",
    "    if boundary == 'Diri':\n",
    "        point_value, R_value = Dirichlet_bd( maxIter, clamping_ticks, K, Kt, R, Rt, top, bottom, left, right)\n",
    "        \n",
    "    elif boundary == 'Neum':\n",
    "        point_value, R_value = Neumann_bd( maxIter, clamping_ticks, K, Kt, R, Rt, top, bottom, left, right)\n",
    "        \n",
    "    elif boundary == 'Perid':\n",
    "        point_value, R_value = Periodic_bd( maxIter, clamping_ticks, K, Kt, R, Rt)\n",
    "        \n",
    "    return point_value, R_value"
   ]
  },
  {
   "cell_type": "code",
   "execution_count": null,
   "metadata": {},
   "outputs": [],
   "source": []
  },
  {
   "cell_type": "code",
   "execution_count": null,
   "metadata": {},
   "outputs": [],
   "source": [
    "# Diri, Neum, Perid\n",
    "point_value, R_value = compute_fick_law('Diri', clamping_ticks = 200, top = Kr, bottom = Kr, left = Kr, right = Kr)\n",
    "# point_value, R_value = compute_fick_law('Neum', clamping_ticks = 200)\n",
    "# point_value, R_value = compute_fick_law('Perid', clamping_ticks = 200)"
   ]
  },
  {
   "cell_type": "code",
   "execution_count": 21,
   "metadata": {},
   "outputs": [],
   "source": [
    "# load all timesteps images\n",
    "images = []\n",
    "for image in sorted(glob.glob('./images/*.png'), key=lambda k: int(ntpath.basename(k).replace('.png', ''))):\n",
    "    images.append(imageio.imread(image))\n",
    "    "
   ]
  },
  {
   "cell_type": "code",
   "execution_count": 22,
   "metadata": {
    "scrolled": true
   },
   "outputs": [
    {
     "data": {
      "text/plain": [
       "<matplotlib.image.AxesImage at 0x1724a9048>"
      ]
     },
     "execution_count": 22,
     "metadata": {},
     "output_type": "execute_result"
    },
    {
     "data": {
      "image/png": "[encoded data removed]",
      "text/plain": [
       "<matplotlib.figure.Figure at 0x11672ae48>"
      ]
     },
     "metadata": {},
     "output_type": "display_data"
    }
   ],
   "source": [
    "plt.imshow(images[1500])"
   ]
  },
  {
   "cell_type": "code",
   "execution_count": 23,
   "metadata": {},
   "outputs": [],
   "source": [
    "def make_video(images, image_folder, video_name, outimg=None, fps=5, size=None,\n",
    "               is_color=True, format=\"XVID\"):\n",
    "    \n",
    "    from cv2 import VideoWriter, VideoWriter_fourcc, imread, resize\n",
    "    fourcc = VideoWriter_fourcc(*format)\n",
    "    vid = None\n",
    "    for image in images:\n",
    "        if not os.path.join(image_folder, image):\n",
    "            raise FileNotFoundError(image)\n",
    "        img = imread(os.path.join(image_folder, image))\n",
    "        if vid is None:\n",
    "            if size is None:\n",
    "                size = img.shape[1], img.shape[0]\n",
    "            vid = VideoWriter(video_name, fourcc, float(fps), size, is_color)\n",
    "        if size[0] != img.shape[1] and size[1] != img.shape[0]:\n",
    "            img = resize(img, size)\n",
    "        vid.write(img)\n",
    "    vid.release()\n",
    "    return vid"
   ]
  },
  {
   "cell_type": "code",
   "execution_count": 24,
   "metadata": {},
   "outputs": [
    {
     "data": {
      "text/plain": [
       "<VideoWriter 0x1c182fef0>"
      ]
     },
     "execution_count": 24,
     "metadata": {},
     "output_type": "execute_result"
    }
   ],
   "source": [
    "image_folder = 'images'\n",
    "video_name = 'Diffusion.mp4'\n",
    "\n",
    "images = []\n",
    "for i in range(maxIter):\n",
    "    images.append( str(int(i)) + \".png\")\n",
    "\n",
    "make_video(images, image_folder, video_name, outimg=None, fps=int(1/deltaT), size=None, is_color=True, format=\"XVID\")"
   ]
  },
  {
   "cell_type": "code",
   "execution_count": 25,
   "metadata": {},
   "outputs": [
    {
     "data": {
      "text/plain": [
       "[<matplotlib.lines.Line2D at 0x21c2ee390>,\n",
       " <matplotlib.lines.Line2D at 0x21c2ee4e0>]"
      ]
     },
     "execution_count": 25,
     "metadata": {},
     "output_type": "execute_result"
    },
    {
     "data": {
      "image/png": "[encoded data removed]",
      "text/plain": [
       "<matplotlib.figure.Figure at 0x19705fb70>"
      ]
     },
     "metadata": {},
     "output_type": "display_data"
    }
   ],
   "source": [
    "N = 1000\n",
    "K_R_value = np.zeros((N,2))\n",
    "K_R_value[:,0] = point_value[:N,1]\n",
    "K_R_value[:,1] = R_value[:N,1]\n",
    "plt.plot( K_R_value)"
   ]
  },
  {
   "cell_type": "code",
   "execution_count": 26,
   "metadata": {},
   "outputs": [
    {
     "name": "stdout",
     "output_type": "stream",
     "text": [
      "7.992411727666046e-05 0.0\n"
     ]
    },
    {
     "data": {
      "text/plain": [
       "1999"
      ]
     },
     "execution_count": 26,
     "metadata": {},
     "output_type": "execute_result"
    }
   ],
   "source": [
    "print(np.max(R_value[:,1]), np.min(R_value[:,1]))\n",
    "np.argmax(R_value[:,1])"
   ]
  },
  {
   "cell_type": "code",
   "execution_count": 27,
   "metadata": {},
   "outputs": [
    {
     "data": {
      "text/plain": [
       "[<matplotlib.lines.Line2D at 0x21c3c5860>]"
      ]
     },
     "execution_count": 27,
     "metadata": {},
     "output_type": "execute_result"
    },
    {
     "data": {
      "image/png": "[encoded data removed]",
      "text/plain": [
       "<matplotlib.figure.Figure at 0x14ae27b00>"
      ]
     },
     "metadata": {},
     "output_type": "display_data"
    }
   ],
   "source": [
    "plt.plot(R_value[:,1])"
   ]
  },
  {
   "cell_type": "code",
   "execution_count": null,
   "metadata": {},
   "outputs": [],
   "source": []
  },
  {
   "cell_type": "code",
   "execution_count": null,
   "metadata": {},
   "outputs": [],
   "source": []
  },
  {
   "cell_type": "code",
   "execution_count": null,
   "metadata": {},
   "outputs": [],
   "source": []
  },
  {
   "cell_type": "code",
   "execution_count": 28,
   "metadata": {},
   "outputs": [
    {
     "name": "stdout",
     "output_type": "stream",
     "text": [
      "10 1\n",
      "50 2\n",
      "500 3\n",
      "1500 4\n"
     ]
    },
    {
     "data": {
      "image/png": "[encoded data removed]",
      "text/plain": [
       "<matplotlib.figure.Figure at 0x21c357a20>"
      ]
     },
     "metadata": {},
     "output_type": "display_data"
    }
   ],
   "source": [
    "import numpy as np\n",
    "import matplotlib.pyplot as plt\n",
    "\n",
    "# plate size, mm\n",
    "w = h = 10.\n",
    "# intervals in x-, y- directions, mm\n",
    "dx = dy = 0.1\n",
    "# Thermal diffusivity of steel, mm2.s-1\n",
    "D = 0.75\n",
    "\n",
    "Tcool, Thot = 0., 1.\n",
    "\n",
    "nx, ny = int(w/dx), int(h/dy)\n",
    "\n",
    "dx2, dy2 = dx*dx, dy*dy\n",
    "dt = dx2 * dy2 / (2 * D * (dx2 + dy2))\n",
    "\n",
    "r0 = np.zeros((nx-2, ny-2))\n",
    "u0 = Kr * np.ones((nx, ny))\n",
    "u = np.empty((nx, ny))\n",
    "\n",
    "# Initial conditions - ring of inner radius r, width dr centred at (cx,cy) (mm)\n",
    "r, cx, cy = 0.02, 5, 5\n",
    "r2 = r**2\n",
    "for i in range(nx):\n",
    "    for j in range(ny):\n",
    "        p2 = (i*dx-cx)**2 + (j*dy-cy)**2\n",
    "        if p2 < r2:\n",
    "            u0[i,j] = Thot\n",
    "\n",
    "def do_timestep(u0, u, r0):\n",
    "    # Propagate with forward-difference in time, central-difference in space\n",
    "    \n",
    "    u[1:-1, 1:-1] = u0[1:-1, 1:-1] + D * dt * (\n",
    "          (u0[2:, 1:-1] - 2*u0[1:-1, 1:-1] + u0[:-2, 1:-1])/dx2\n",
    "          + (u0[1:-1, 2:] - 2*u0[1:-1, 1:-1] + u0[1:-1, :-2])/dy2 ) + A*(\n",
    "        u0[1:-1, 1:-1]-Kr)*(u0[1:-1, 1:-1]-Ktheta)*(u0[1:-1, 1:-1]-Km)*(u0[1:-1, 1:-1]+0.1) - r0*u[1:-1, 1:-1]\n",
    "    \n",
    "    u[:,0:2] = Kr\n",
    "    u[:,ny-2:ny] = Kr\n",
    "    u[0:2,:] = Kr\n",
    "    u[nx-2:nx,:] = Kr\n",
    "    \n",
    "    r0 = r0 + dt*B*((u0[1:-1, 1:-1] - Kr) - C*r0)\n",
    "\n",
    "    u0 = u.copy()\n",
    "    \n",
    "    return u0, u, r0\n",
    "\n",
    "# Number of timesteps\n",
    "nsteps = 2000\n",
    "# Output 4 figures at these timesteps\n",
    "mfig = [10, 50, 500, 1500]\n",
    "fignum = 0\n",
    "fig = plt.figure()\n",
    "for m in range(nsteps):\n",
    "    u0, u, r0 = do_timestep(u0, u, r0)\n",
    "    if m in mfig:\n",
    "        fignum += 1\n",
    "        print(m, fignum)\n",
    "        ax = fig.add_subplot(220 + fignum)\n",
    "        im = ax.imshow(u.copy(), cmap=plt.get_cmap('hot'), vmin=Tcool,vmax=1)\n",
    "        ax.set_axis_off()\n",
    "        ax.set_title('{:.1f} ms'.format(m*dt*1000))\n",
    "fig.subplots_adjust(right=0.85)\n",
    "cbar_ax = fig.add_axes([0.9, 0.15, 0.03, 0.7])\n",
    "cbar_ax.set_xlabel('$T$ / K', labelpad=20)\n",
    "fig.colorbar(im, cax=cbar_ax)\n",
    "plt.show()"
   ]
  },
  {
   "cell_type": "code",
   "execution_count": null,
   "metadata": {},
   "outputs": [],
   "source": []
  },
  {
   "cell_type": "code",
   "execution_count": null,
   "metadata": {},
   "outputs": [],
   "source": []
  }
 ],
 "metadata": {
  "kernelspec": {
   "display_name": "Python 3",
   "language": "python",
   "name": "python3"
  },
  "language_info": {
   "codemirror_mode": {
    "name": "ipython",
    "version": 3
   },
   "file_extension": ".py",
   "mimetype": "text/x-python",
   "name": "python",
   "nbconvert_exporter": "python",
   "pygments_lexer": "ipython3",
   "version": "3.6.4"
  }
 },
 "nbformat": 4,
 "nbformat_minor": 2
}
